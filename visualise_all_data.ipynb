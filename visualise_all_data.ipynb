{
 "cells": [
  {
   "cell_type": "code",
   "execution_count": null,
   "metadata": {},
   "outputs": [],
   "source": [
    "import numpy as np\n",
    "import matplotlib.pyplot as plt"
   ]
  },
  {
   "cell_type": "code",
   "execution_count": null,
   "metadata": {},
   "outputs": [],
   "source": [
    "p = np.load('produced_small.npy')\n",
    "np.shape(p)\n",
    "# each iteration produces 64 images of size 64x64, there's 33 iterations"
   ]
  },
  {
   "cell_type": "code",
   "execution_count": null,
   "metadata": {},
   "outputs": [],
   "source": [
    "iteration = 30\n",
    "data = np.copy(p[iteration])\n",
    "np.shape(data)"
   ]
  },
  {
   "cell_type": "code",
   "execution_count": null,
   "metadata": {},
   "outputs": [],
   "source": [
    "# visualise all samples in selected iteration, no filtering\n",
    "fig, ax = plt.subplots(nrows = 8, ncols = 8, figsize = (20,15))\n",
    "ax = ax.flatten()\n",
    "for x, axis in zip(data, ax):\n",
    "    x = x[0]\n",
    "    axis.contourf(x)\n",
    "    axis.set_xticks([])\n",
    "    axis.set_yticks([])\n",
    "plt.show()"
   ]
  },
  {
   "cell_type": "code",
   "execution_count": null,
   "metadata": {},
   "outputs": [],
   "source": [
    "# visualise all samples in selected iteration, removes super dark blue values\n",
    "fig, ax = plt.subplots(nrows = 8, ncols = 8, figsize = (20,15))\n",
    "ax = ax.flatten()\n",
    "for x, axis in zip(data, ax):\n",
    "    x = x[0]\n",
    "    x[x< -0.85] = np.nan\n",
    "    axis.contourf(x)\n",
    "    axis.set_xticks([])\n",
    "    axis.set_yticks([])\n",
    "plt.show()"
   ]
  }
 ],
 "metadata": {
  "kernelspec": {
   "display_name": "Python 3",
   "language": "python",
   "name": "python3"
  },
  "language_info": {
   "codemirror_mode": {
    "name": "ipython",
    "version": 3
   },
   "file_extension": ".py",
   "mimetype": "text/x-python",
   "name": "python",
   "nbconvert_exporter": "python",
   "pygments_lexer": "ipython3",
   "version": "3.7.6"
  }
 },
 "nbformat": 4,
 "nbformat_minor": 4
}
